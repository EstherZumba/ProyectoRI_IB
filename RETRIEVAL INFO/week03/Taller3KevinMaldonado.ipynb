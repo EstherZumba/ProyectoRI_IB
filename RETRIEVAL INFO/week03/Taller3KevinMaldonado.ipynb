{
  "nbformat": 4,
  "nbformat_minor": 0,
  "metadata": {
    "colab": {
      "provenance": []
    },
    "kernelspec": {
      "name": "python3",
      "display_name": "Python 3"
    },
    "language_info": {
      "name": "python"
    }
  },
  "cells": [
    {
      "cell_type": "markdown",
      "source": [
        "# Librerias\n"
      ],
      "metadata": {
        "id": "zbhibdQdJkQG"
      }
    },
    {
      "cell_type": "code",
      "source": [
        "import numpy as np\n",
        "from sklearn.metrics.pairwise import cosine_similarity\n",
        "import csv\n"
      ],
      "metadata": {
        "id": "EEe8obWnJVGC"
      },
      "execution_count": 11,
      "outputs": []
    },
    {
      "cell_type": "markdown",
      "source": [
        "#PASO 1: PREPROCESAMIENTO DE DE DATA"
      ],
      "metadata": {
        "id": "X6SC0IL0JdJs"
      }
    },
    {
      "cell_type": "code",
      "source": [
        "# Textos normalizados\n",
        "texto1 = \"Historia de Madrid: Madrid la capital de España tiene una rica historia que se remonta al siglo IX La ciudad fue fundada por los musulmanes y su nombre proviene del árabe Majrit que significa fuente de agua A lo largo de los siglos Madrid se ha convertido en un centro político económico y cultural de España\"\n",
        "texto2 = \"El Palacio Real: El Palacio Real de Madrid es una de las residencias oficiales de la familia real española aunque ahora se usa principalmente para ceremonias de estado Con más de 3000 habitaciones es el palacio real más grande de Europa Occidental y un testimonio del esplendor y la historia de España\"\n",
        "texto3 = \"Museo del Prado: El Museo del Prado es uno de los museos más famosos del mundo y un destino imprescindible para los amantes del arte que visitan Madrid Alberga una impresionante colección de obras de Velázquez Goya El Greco y otros maestros europeos\"\n",
        "texto4 = \"Parque del Retiro: El Parque del Retiro es el pulmón verde de Madrid Antiguamente perteneciente a la monarquía española este parque de 118 hectáreas ofrece un respiro de la vida urbana con sus estanques jardines y el Palacio de Cristal\"\n",
        "texto5 = \"Gastronomía Madrileña: Madrid es famosa por su vibrante escena gastronómica que incluye desde tapas en pequeños bares hasta restaurantes de alta cocina Platos típicos como el cocido madrileño y las patatas bravas son esenciales para cualquier visitante\"\n",
        "texto6 = \"Gran Vía: La Gran Vía es una de las calles más famosas de Madrid conocida por sus tiendas teatros y arquitectura emblemática Este bullicioso bulevar es un punto de encuentro para turistas y locales por igual\"\n",
        "texto7 = \"Real Madrid y el Estadio Santiago Bernabéu: El Real Madrid uno de los clubes de fútbol más famosos y exitosos del mundo juega sus partidos en el Estadio Santiago Bernabéu Este estadio es una meca para los aficionados al fútbol y ofrece tours que permiten a los visitantes explorar su rica historia\"\n",
        "texto8 = \"Navidad en Madrid: Durante la temporada navideña Madrid se transforma con mercados festivos luces deslumbrantes y decoraciones La Plaza Mayor se convierte en un enorme mercado de Navidad donde se pueden encontrar todo tipo de regalos y delicias tradicionales\"\n",
        "texto9 = \"Nochevieja en Puerta del Sol: La Puerta del Sol es el corazón de Madrid y el lugar donde miles se reúnen cada Nochevieja para dar la bienvenida al año nuevo Comer las doce uvas de la suerte al son de las campanadas del reloj es una tradición que todos deberían experimentar\"\n",
        "texto10 = \"Madrid Río: Madrid Río es un parque lineal a lo largo del río Manzanares y un ejemplo perfecto de cómo la ciudad ha transformado áreas industriales en espacios verdes vibrantes Es un lugar popular para caminar andar en bicicleta y disfrutar de actividades al aire libre\"\n",
        "texto11 = \"Historia de Dortmund: Dortmund situada en la región del Ruhr en Alemania tiene una historia que se remonta al año 882 Originalmente una pequeña villa Dortmund creció para convertirse en una importante ciudad industrial especialmente conocida por su producción de acero y cerveza\"\n",
        "texto12 = \"Westfalenpark: Westfalenpark es uno de los parques urbanos más grandes de Europa y un lugar destacado para los visitantes en Dortmund El parque es famoso por su Rosarium que alberga una de las colecciones más extensas de rosas en el mundo y la torre Florian que ofrece vistas panorámicas de la ciudad\"\n",
        "texto13 = \"Museo del Fútbol Alemán: Inaugurado en 2015 el Museo del Fútbol Alemán ofrece una experiencia interactiva que celebra la rica historia del fútbol alemán Ubicado en Dortmund el museo atrae a aficionados de todo el mundo y destaca por sus exposiciones que cuentan desde los primeros días del deporte hasta los triunfos en Copas del Mundo\"\n",
        "texto14 = \"Mercado de Navidad de Dortmund: El Mercado de Navidad de Dortmund es uno de los más grandes y más visitados de Alemania Con su gigantesco árbol de Navidad posiblemente el más alto de los mercados navideños del país y más de 300 puestos que venden artesanías alimentos y bebidas tradicionales es un evento imperdible durante la temporada festiva\"\n",
        "texto15 = \"U-Tower - Centro de Arte y Creatividad: El U-Tower una antigua cervecería reconvertida es ahora un centro dinámico de arte y creatividad Alberga el Museo Ostwall espacios de exposiciones y estudios de artistas y es un símbolo de la transformación cultural de Dortmund\"\n",
        "texto16 = \"Borussia Dortmund y el Signal Iduna Park: Borussia Dortmund es uno de los clubes de fútbol más populares y exitosos de Alemania. El equipo juega sus partidos en casa en el Signal Iduna Park, conocido por su increíble atmósfera y el famoso “Muro Amarillo”, la tribuna sur que alberga a 25,000 aficionados apasionados.\"\n",
        "texto17 = \"La cervecería Dortmund: Dortmund tiene una larga tradición cervecera, y la visita a una de sus muchas cervecerías es una parada obligatoria. Las cervecerías ofrecen tours que incluyen degustaciones de cervezas locales como Dortmunder Export, una lager que es un orgullo de la ciudad.\"\n",
        "texto18 = \"La Reinoldikirche: La iglesia de San Reinold es el edificio más antiguo de Dortmund, datando del siglo XIII. Es un punto de referencia histórico importante y ofrece a los visitantes una mirada al pasado medieval de la ciudad.\"\n",
        "texto19 = \"Dortmund durante la Segunda Guerra Mundial: Dortmund fue un objetivo significativo durante los bombardeos de la Segunda Guerra Mundial debido a su industria pesada. Hoy en día, varios monumentos y museos ofrecen reflexiones sobre este período y sus efectos en la ciudad.\"\n",
        "texto20 = \"Zoológico de Dortmund: El Zoológico de Dortmund es un lugar excelente para familias y amantes de la naturaleza. Con más de 1,500 animales y un enfoque especial en la conservación de especies amenazadas, el zoológico proporciona una experiencia educativa y entretenida.\"\n",
        "\n"
      ],
      "metadata": {
        "id": "IIEp88SzVAXs"
      },
      "execution_count": 12,
      "outputs": []
    },
    {
      "cell_type": "markdown",
      "source": [
        "# Textos normalizados y tokenizados"
      ],
      "metadata": {
        "id": "DlAMwkWUJ3nj"
      }
    },
    {
      "cell_type": "code",
      "source": [
        "\n",
        "texto1_tokens = [palabra.lower() for palabra in texto1.split() if palabra.isalnum()]\n",
        "texto2_tokens = [palabra.lower() for palabra in texto2.split() if palabra.isalnum()]\n",
        "texto3_tokens = [palabra.lower() for palabra in texto3.split() if palabra.isalnum()]\n",
        "texto4_tokens = [palabra.lower() for palabra in texto4.split() if palabra.isalnum()]\n",
        "texto5_tokens = [palabra.lower() for palabra in texto5.split() if palabra.isalnum()]\n",
        "texto6_tokens = [palabra.lower() for palabra in texto6.split() if palabra.isalnum()]\n",
        "texto7_tokens = [palabra.lower() for palabra in texto7.split() if palabra.isalnum()]\n",
        "texto8_tokens = [palabra.lower() for palabra in texto8.split() if palabra.isalnum()]\n",
        "texto9_tokens = [palabra.lower() for palabra in texto9.split() if palabra.isalnum()]\n",
        "texto10_tokens = [palabra.lower() for palabra in texto10.split() if palabra.isalnum()]\n",
        "texto11_tokens = [palabra.lower() for palabra in texto11.split() if palabra.isalnum()]\n",
        "texto12_tokens = [palabra.lower() for palabra in texto12.split() if palabra.isalnum()]\n",
        "texto13_tokens = [palabra.lower() for palabra in texto13.split() if palabra.isalnum()]\n",
        "texto14_tokens = [palabra.lower() for palabra in texto14.split() if palabra.isalnum()]\n",
        "texto15_tokens = [palabra.lower() for palabra in texto15.split() if palabra.isalnum()]\n",
        "texto16_tokens = [palabra.lower() for palabra in texto16.split() if palabra.isalnum()]\n",
        "texto17_tokens = [palabra.lower() for palabra in texto17.split() if palabra.isalnum()]\n",
        "texto18_tokens = [palabra.lower() for palabra in texto18.split() if palabra.isalnum()]\n",
        "texto19_tokens = [palabra.lower() for palabra in texto19.split() if palabra.isalnum()]\n",
        "texto20_tokens = [palabra.lower() for palabra in texto20.split() if palabra.isalnum()]\n"
      ],
      "metadata": {
        "id": "ubeLUF2UUcoK"
      },
      "execution_count": 13,
      "outputs": []
    },
    {
      "cell_type": "markdown",
      "source": [
        "# Vectores tokenizados"
      ],
      "metadata": {
        "id": "gRWMPG2aJ9P4"
      }
    },
    {
      "cell_type": "code",
      "source": [
        "\n",
        "print(\"Texto 1:\", texto1_tokens)\n",
        "print(\"Texto 2:\", texto2_tokens)\n",
        "print(\"Texto 3:\", texto3_tokens)\n",
        "print(\"Texto 4:\", texto4_tokens)\n",
        "print(\"Texto 5:\", texto5_tokens)\n",
        "print(\"Texto 6:\", texto6_tokens)\n",
        "print(\"Texto 7:\", texto7_tokens)\n",
        "print(\"Texto 8:\", texto8_tokens)\n",
        "print(\"Texto 9:\", texto9_tokens)\n",
        "print(\"Texto 10:\", texto10_tokens)\n",
        "print(\"Texto 11:\", texto11_tokens)\n",
        "print(\"Texto 12:\", texto12_tokens)\n",
        "print(\"Texto 13:\", texto13_tokens)\n",
        "print(\"Texto 14:\", texto14_tokens)\n",
        "print(\"Texto 15:\", texto15_tokens)\n",
        "print(\"Texto 16:\", texto16_tokens)\n",
        "print(\"Texto 17:\", texto17_tokens)\n",
        "print(\"Texto 18:\", texto18_tokens)\n",
        "print(\"Texto 19:\", texto19_tokens)\n",
        "print(\"Texto 20:\", texto20_tokens)\n"
      ],
      "metadata": {
        "colab": {
          "base_uri": "https://localhost:8080/"
        },
        "id": "WzuASw_0WeaZ",
        "outputId": "0be11580-590a-46f2-ac98-37377146dd2e"
      },
      "execution_count": 14,
      "outputs": [
        {
          "output_type": "stream",
          "name": "stdout",
          "text": [
            "Texto 1: ['historia', 'de', 'madrid', 'la', 'capital', 'de', 'españa', 'tiene', 'una', 'rica', 'historia', 'que', 'se', 'remonta', 'al', 'siglo', 'ix', 'la', 'ciudad', 'fue', 'fundada', 'por', 'los', 'musulmanes', 'y', 'su', 'nombre', 'proviene', 'del', 'árabe', 'majrit', 'que', 'significa', 'fuente', 'de', 'agua', 'a', 'lo', 'largo', 'de', 'los', 'siglos', 'madrid', 'se', 'ha', 'convertido', 'en', 'un', 'centro', 'político', 'económico', 'y', 'cultural', 'de', 'españa']\n",
            "Texto 2: ['el', 'palacio', 'el', 'palacio', 'real', 'de', 'madrid', 'es', 'una', 'de', 'las', 'residencias', 'oficiales', 'de', 'la', 'familia', 'real', 'española', 'aunque', 'ahora', 'se', 'usa', 'principalmente', 'para', 'ceremonias', 'de', 'estado', 'con', 'más', 'de', '3000', 'habitaciones', 'es', 'el', 'palacio', 'real', 'más', 'grande', 'de', 'europa', 'occidental', 'y', 'un', 'testimonio', 'del', 'esplendor', 'y', 'la', 'historia', 'de', 'españa']\n",
            "Texto 3: ['museo', 'del', 'el', 'museo', 'del', 'prado', 'es', 'uno', 'de', 'los', 'museos', 'más', 'famosos', 'del', 'mundo', 'y', 'un', 'destino', 'imprescindible', 'para', 'los', 'amantes', 'del', 'arte', 'que', 'visitan', 'madrid', 'alberga', 'una', 'impresionante', 'colección', 'de', 'obras', 'de', 'velázquez', 'goya', 'el', 'greco', 'y', 'otros', 'maestros', 'europeos']\n",
            "Texto 4: ['parque', 'del', 'el', 'parque', 'del', 'retiro', 'es', 'el', 'pulmón', 'verde', 'de', 'madrid', 'antiguamente', 'perteneciente', 'a', 'la', 'monarquía', 'española', 'este', 'parque', 'de', '118', 'hectáreas', 'ofrece', 'un', 'respiro', 'de', 'la', 'vida', 'urbana', 'con', 'sus', 'estanques', 'jardines', 'y', 'el', 'palacio', 'de', 'cristal']\n",
            "Texto 5: ['gastronomía', 'madrid', 'es', 'famosa', 'por', 'su', 'vibrante', 'escena', 'gastronómica', 'que', 'incluye', 'desde', 'tapas', 'en', 'pequeños', 'bares', 'hasta', 'restaurantes', 'de', 'alta', 'cocina', 'platos', 'típicos', 'como', 'el', 'cocido', 'madrileño', 'y', 'las', 'patatas', 'bravas', 'son', 'esenciales', 'para', 'cualquier', 'visitante']\n",
            "Texto 6: ['gran', 'la', 'gran', 'vía', 'es', 'una', 'de', 'las', 'calles', 'más', 'famosas', 'de', 'madrid', 'conocida', 'por', 'sus', 'tiendas', 'teatros', 'y', 'arquitectura', 'emblemática', 'este', 'bullicioso', 'bulevar', 'es', 'un', 'punto', 'de', 'encuentro', 'para', 'turistas', 'y', 'locales', 'por', 'igual']\n",
            "Texto 7: ['real', 'madrid', 'y', 'el', 'estadio', 'santiago', 'el', 'real', 'madrid', 'uno', 'de', 'los', 'clubes', 'de', 'fútbol', 'más', 'famosos', 'y', 'exitosos', 'del', 'mundo', 'juega', 'sus', 'partidos', 'en', 'el', 'estadio', 'santiago', 'bernabéu', 'este', 'estadio', 'es', 'una', 'meca', 'para', 'los', 'aficionados', 'al', 'fútbol', 'y', 'ofrece', 'tours', 'que', 'permiten', 'a', 'los', 'visitantes', 'explorar', 'su', 'rica', 'historia']\n",
            "Texto 8: ['navidad', 'en', 'durante', 'la', 'temporada', 'navideña', 'madrid', 'se', 'transforma', 'con', 'mercados', 'festivos', 'luces', 'deslumbrantes', 'y', 'decoraciones', 'la', 'plaza', 'mayor', 'se', 'convierte', 'en', 'un', 'enorme', 'mercado', 'de', 'navidad', 'donde', 'se', 'pueden', 'encontrar', 'todo', 'tipo', 'de', 'regalos', 'y', 'delicias', 'tradicionales']\n",
            "Texto 9: ['nochevieja', 'en', 'puerta', 'del', 'la', 'puerta', 'del', 'sol', 'es', 'el', 'corazón', 'de', 'madrid', 'y', 'el', 'lugar', 'donde', 'miles', 'se', 'reúnen', 'cada', 'nochevieja', 'para', 'dar', 'la', 'bienvenida', 'al', 'año', 'nuevo', 'comer', 'las', 'doce', 'uvas', 'de', 'la', 'suerte', 'al', 'son', 'de', 'las', 'campanadas', 'del', 'reloj', 'es', 'una', 'tradición', 'que', 'todos', 'deberían', 'experimentar']\n",
            "Texto 10: ['madrid', 'madrid', 'río', 'es', 'un', 'parque', 'lineal', 'a', 'lo', 'largo', 'del', 'río', 'manzanares', 'y', 'un', 'ejemplo', 'perfecto', 'de', 'cómo', 'la', 'ciudad', 'ha', 'transformado', 'áreas', 'industriales', 'en', 'espacios', 'verdes', 'vibrantes', 'es', 'un', 'lugar', 'popular', 'para', 'caminar', 'andar', 'en', 'bicicleta', 'y', 'disfrutar', 'de', 'actividades', 'al', 'aire', 'libre']\n",
            "Texto 11: ['historia', 'de', 'dortmund', 'situada', 'en', 'la', 'región', 'del', 'ruhr', 'en', 'alemania', 'tiene', 'una', 'historia', 'que', 'se', 'remonta', 'al', 'año', '882', 'originalmente', 'una', 'pequeña', 'villa', 'dortmund', 'creció', 'para', 'convertirse', 'en', 'una', 'importante', 'ciudad', 'industrial', 'especialmente', 'conocida', 'por', 'su', 'producción', 'de', 'acero', 'y', 'cerveza']\n",
            "Texto 12: ['westfalenpark', 'es', 'uno', 'de', 'los', 'parques', 'urbanos', 'más', 'grandes', 'de', 'europa', 'y', 'un', 'lugar', 'destacado', 'para', 'los', 'visitantes', 'en', 'dortmund', 'el', 'parque', 'es', 'famoso', 'por', 'su', 'rosarium', 'que', 'alberga', 'una', 'de', 'las', 'colecciones', 'más', 'extensas', 'de', 'rosas', 'en', 'el', 'mundo', 'y', 'la', 'torre', 'florian', 'que', 'ofrece', 'vistas', 'panorámicas', 'de', 'la', 'ciudad']\n",
            "Texto 13: ['museo', 'del', 'fútbol', 'inaugurado', 'en', '2015', 'el', 'museo', 'del', 'fútbol', 'alemán', 'ofrece', 'una', 'experiencia', 'interactiva', 'que', 'celebra', 'la', 'rica', 'historia', 'del', 'fútbol', 'alemán', 'ubicado', 'en', 'dortmund', 'el', 'museo', 'atrae', 'a', 'aficionados', 'de', 'todo', 'el', 'mundo', 'y', 'destaca', 'por', 'sus', 'exposiciones', 'que', 'cuentan', 'desde', 'los', 'primeros', 'días', 'del', 'deporte', 'hasta', 'los', 'triunfos', 'en', 'copas', 'del', 'mundo']\n",
            "Texto 14: ['mercado', 'de', 'navidad', 'de', 'el', 'mercado', 'de', 'navidad', 'de', 'dortmund', 'es', 'uno', 'de', 'los', 'más', 'grandes', 'y', 'más', 'visitados', 'de', 'alemania', 'con', 'su', 'gigantesco', 'árbol', 'de', 'navidad', 'posiblemente', 'el', 'más', 'alto', 'de', 'los', 'mercados', 'navideños', 'del', 'país', 'y', 'más', 'de', '300', 'puestos', 'que', 'venden', 'artesanías', 'alimentos', 'y', 'bebidas', 'tradicionales', 'es', 'un', 'evento', 'imperdible', 'durante', 'la', 'temporada', 'festiva']\n",
            "Texto 15: ['centro', 'de', 'arte', 'y', 'el', 'una', 'antigua', 'cervecería', 'reconvertida', 'es', 'ahora', 'un', 'centro', 'dinámico', 'de', 'arte', 'y', 'creatividad', 'alberga', 'el', 'museo', 'ostwall', 'espacios', 'de', 'exposiciones', 'y', 'estudios', 'de', 'artistas', 'y', 'es', 'un', 'símbolo', 'de', 'la', 'transformación', 'cultural', 'de', 'dortmund']\n",
            "Texto 16: ['borussia', 'dortmund', 'y', 'el', 'signal', 'iduna', 'borussia', 'dortmund', 'es', 'uno', 'de', 'los', 'clubes', 'de', 'fútbol', 'más', 'populares', 'y', 'exitosos', 'de', 'el', 'equipo', 'juega', 'sus', 'partidos', 'en', 'casa', 'en', 'el', 'signal', 'iduna', 'conocido', 'por', 'su', 'increíble', 'atmósfera', 'y', 'el', 'famoso', 'la', 'tribuna', 'sur', 'que', 'alberga', 'a', 'aficionados']\n",
            "Texto 17: ['la', 'cervecería', 'dortmund', 'tiene', 'una', 'larga', 'tradición', 'y', 'la', 'visita', 'a', 'una', 'de', 'sus', 'muchas', 'cervecerías', 'es', 'una', 'parada', 'las', 'cervecerías', 'ofrecen', 'tours', 'que', 'incluyen', 'degustaciones', 'de', 'cervezas', 'locales', 'como', 'dortmunder', 'una', 'lager', 'que', 'es', 'un', 'orgullo', 'de', 'la']\n",
            "Texto 18: ['la', 'la', 'iglesia', 'de', 'san', 'reinold', 'es', 'el', 'edificio', 'más', 'antiguo', 'de', 'datando', 'del', 'siglo', 'es', 'un', 'punto', 'de', 'referencia', 'histórico', 'importante', 'y', 'ofrece', 'a', 'los', 'visitantes', 'una', 'mirada', 'al', 'pasado', 'medieval', 'de', 'la']\n",
            "Texto 19: ['dortmund', 'durante', 'la', 'segunda', 'guerra', 'dortmund', 'fue', 'un', 'objetivo', 'significativo', 'durante', 'los', 'bombardeos', 'de', 'la', 'segunda', 'guerra', 'mundial', 'debido', 'a', 'su', 'industria', 'hoy', 'en', 'varios', 'monumentos', 'y', 'museos', 'ofrecen', 'reflexiones', 'sobre', 'este', 'período', 'y', 'sus', 'efectos', 'en', 'la']\n",
            "Texto 20: ['zoológico', 'de', 'el', 'zoológico', 'de', 'dortmund', 'es', 'un', 'lugar', 'excelente', 'para', 'familias', 'y', 'amantes', 'de', 'la', 'con', 'más', 'de', 'animales', 'y', 'un', 'enfoque', 'especial', 'en', 'la', 'conservación', 'de', 'especies', 'el', 'zoológico', 'proporciona', 'una', 'experiencia', 'educativa', 'y']\n"
          ]
        }
      ]
    },
    {
      "cell_type": "markdown",
      "source": [
        "# Diccionario de terminos"
      ],
      "metadata": {
        "id": "KERhe31_KEkY"
      }
    },
    {
      "cell_type": "code",
      "source": [
        "textos = [\n",
        "    \"Historia de Madrid: Madrid, la capital de España, tiene una rica historia que se remonta al siglo IX. La ciudad fue fundada por los musulmanes, y su nombre proviene del árabe “Majrit” que significa “fuente de agua”. A lo largo de los siglos, Madrid se ha convertido en un centro político, económico y cultural de España.\",\n",
        "    \"El Palacio Real: El Palacio Real de Madrid es una de las residencias oficiales de la familia real española, aunque ahora se usa principalmente para ceremonias de estado. Con más de 3,000 habitaciones, es el palacio real más grande de Europa Occidental y un testimonio del esplendor y la historia de España.\",\n",
        "    \"Museo del Prado: El Museo del Prado es uno de los museos más famosos del mundo y un destino imprescindible para los amantes del arte que visitan Madrid. Alberga una impresionante colección de obras de Velázquez, Goya, El Greco y otros maestros europeos.\",\n",
        "    \"Parque del Retiro: El Parque del Retiro es el pulmón verde de Madrid. Antiguamente perteneciente a la monarquía española, este parque de 118 hectáreas ofrece un respiro de la vida urbana con sus estanques, jardines y el Palacio de Cristal.\",\n",
        "    \"Gastronomía Madrileña: Madrid es famosa por su vibrante escena gastronómica que incluye desde tapas en pequeños bares hasta restaurantes de alta cocina. Platos típicos como el cocido madrileño y las patatas bravas son esenciales para cualquier visitante.\",\n",
        "    \"Gran Vía: La Gran Vía es una de las calles más famosas de Madrid, conocida por sus tiendas, teatros y arquitectura emblemática. Este bullicioso bulevar es un punto de encuentro para turistas y locales por igual.\",\n",
        "    \"Real Madrid y el Estadio Santiago Bernabéu: El Real Madrid, uno de los clubes de fútbol más famosos y exitosos del mundo, juega sus partidos en el Estadio Santiago Bernabéu. Este estadio es una meca para los aficionados al fútbol y ofrece tours que permiten a los visitantes explorar su rica historia.\",\n",
        "    \"Navidad en Madrid: Durante la temporada navideña, Madrid se transforma con mercados festivos, luces deslumbrantes y decoraciones. La Plaza Mayor se convierte en un enorme mercado de Navidad, donde se pueden encontrar todo tipo de regalos y delicias tradicionales.\",\n",
        "    \"Nochevieja en Puerta del Sol: La Puerta del Sol es el corazón de Madrid y el lugar donde miles se reúnen cada Nochevieja para dar la bienvenida al año nuevo. Comer las doce uvas de la suerte al son de las campanadas del reloj es una tradición que todos deberían experimentar.\",\n",
        "    \"Madrid Río: Madrid Río es un parque lineal a lo largo del río Manzanares y un ejemplo perfecto de cómo la ciudad ha transformado áreas industriales en espacios verdes vibrantes. Es un lugar popular para caminar, andar en bicicleta y disfrutar de actividades al aire libre.\",\n",
        "    \"Historia de Dortmund: Dortmund, situada en la región del Ruhr en Alemania, tiene una historia que se remonta al año 882. Originalmente una pequeña villa, Dortmund creció para convertirse en una importante ciudad industrial, especialmente conocida por su producción de acero y cerveza.\",\n",
        "    \"Westfalenpark: Westfalenpark es uno de los parques urbanos más grandes de Europa y un lugar destacado para los visitantes en Dortmund. El parque es famoso por su Rosarium, que alberga una de las colecciones más extensas de rosas en el mundo, y la torre Florian, que ofrece vistas panorámicas de la ciudad.\",\n",
        "    \"Museo del Fútbol Alemán: Inaugurado en 2015, el Museo del Fútbol Alemán ofrece una experiencia interactiva que celebra la rica historia del fútbol alemán. Ubicado en Dortmund, el museo atrae a aficionados de todo el mundo y destaca por sus exposiciones que cuentan desde los primeros días del deporte hasta los triunfos en Copas del Mundo.\",\n",
        "    \"Mercado de Navidad de Dortmund: El Mercado de Navidad de Dortmund es uno de los más grandes y más visitados de Alemania. Con su gigantesco árbol de Navidad, posiblemente el más alto de los mercados navideños del país, y más de 300 puestos que venden artesanías, alimentos y bebidas tradicionales, es un evento imperdible durante la temporada festiva.\",\n",
        "    \"U-Tower - Centro de Arte y Creatividad: El U-Tower, una antigua cervecería reconvertida, es ahora un centro dinámico de arte y creatividad. Alberga el Museo Ostwall, espacios de exposiciones y estudios de artistas, y es un símbolo de la transformación cultural de Dortmund.\",\n",
        "    \"Borussia Dortmund y el Signal Iduna Park: Borussia Dortmund es uno de los clubes de fútbol más populares y exitosos de Alemania. El equipo juega sus partidos en casa en el Signal Iduna Park, conocido por su increíble atmósfera y el famoso “Muro Amarillo”, la tribuna sur que alberga a 25,000 aficionados apasionados.\",\n",
        "    \"La cervecería Dortmund: Dortmund tiene una larga tradición cervecera, y la visita a una de sus muchas cervecerías es una parada obligatoria. Las cervecerías ofrecen tours que incluyen degustaciones de cervezas locales como Dortmunder Export, una lager que es un orgullo de la ciudad.\",\n",
        "    \"La Reinoldikirche: La iglesia de San Reinold es el edificio más antiguo de Dortmund, datando del siglo XIII. Es un punto de referencia histórico importante y ofrece a los visitantes una mirada al pasado medieval de la ciudad.\",\n",
        "    \"Dortmund durante la Segunda Guerra Mundial: Dortmund fue un objetivo significativo durante los bombardeos de la Segunda Guerra Mundial debido a su industria pesada. Hoy en día, varios monumentos y museos ofrecen reflexiones sobre este período y sus efectos en la ciudad.\",\n",
        "    \"Zoológico de Dortmund: El Zoológico de Dortmund es un lugar excelente para familias y amantes de la naturaleza. Con más de 1,500 animales y un enfoque especial en la conservación de especies amenazadas, el zoológico proporciona una experiencia educativa y entretenida.\"\n",
        "]\n",
        "\n",
        "# Crear un conjunto para almacenar todas las palabras únicas normalizadas\n",
        "palabras_unicas_normalizadas = set()\n",
        "\n",
        "# Agregar todas las palabras normalizadas al conjunto\n",
        "for texto in textos:\n",
        "    palabras = texto.split()\n",
        "    for palabra in palabras:\n",
        "        # Eliminar caracteres especiales y convertir a minúsculas\n",
        "        palabra = palabra.strip('\":,.').lower()\n",
        "        # Agregar la palabra normalizada al conjunto\n",
        "        palabras_unicas_normalizadas.add(palabra)\n",
        "\n",
        "# Convertir el conjunto a una lista para obtener un vector\n",
        "diccionario_palabras_normalizado = list(palabras_unicas_normalizadas)\n",
        "\n",
        "# Mostrar el vector de palabras normalizadas\n",
        "print(\"\\nVector de termino-diccionario: \\n \\n\" ,diccionario_palabras_normalizado)"
      ],
      "metadata": {
        "colab": {
          "base_uri": "https://localhost:8080/"
        },
        "id": "9Aoi18bxKZlM",
        "outputId": "a33389fe-8717-4c5b-f690-9351b58fd790"
      },
      "execution_count": 15,
      "outputs": [
        {
          "output_type": "stream",
          "name": "stdout",
          "text": [
            "\n",
            "Vector de termino-diccionario: \n",
            " \n",
            " ['importante', 'familias', 'son', 'este', 'conocida', 'españa', 'antiguamente', 'bernabéu', 'entretenida', 'familia', 'juega', 'cada', 'convertido', 'año', 'famosa', 'obras', '118', 'hectáreas', 'visitados', '1,500', 'durante', 'varios', 'convertirse', 'ubicado', 'jardines', 'largo', 'manzanares', 'miles', 'extensas', 'donde', 'colecciones', 'xiii', 'con', 'conocido', 'europa', 'aire', 'ostwall', 'puestos', 'estadio', 'alto', 'temporada', 'imperdible', 'tiendas', 'palacio', 'dar', 'originalmente', 'bombardeos', 'visita', 'impresionante', 'primeros', 'creatividad', 'cultural', 'bicicleta', 'arquitectura', 'bravas', 'celebra', 'río', 'reloj', 'excelente', 'partidos', 'calles', 'san', 'por', 'remonta', 'día', 'tradición', 'a', 'amarillo”', 'lo', 'los', 'atmósfera', 'datando', 'de', 'deberían', 'típicos', 'transformación', 'alemania', 'sus', 'mayor', 'campanadas', 'creció', 'experiencia', 'gran', 'zoológico', 'parques', 'sur', 'pueden', 'que', 'sol', 'más', 'conservación', 'reflexiones', 'tribuna', 'cómo', 'aunque', 'estado', 'igual', '25,000', 'transformado', 'iduna', 'equipo', 'edificio', 'rica', 'larga', 'dortmunder', 'vistas', 'apasionados', 'obligatoria', 'pequeños', 'educativa', 'andar', 'ejemplo', 'tapas', 'posiblemente', 'ahora', 'transforma', 'oficiales', 'navideña', 'cerveza', 'platos', 'grande', 'ruhr', 'libre', 'parada', 'meca', 'situada', 'orgullo', 'histórico', 'rosarium', '“muro', '300', 'suerte', 'vida', 'retiro', 'espacios', 'artesanías', 'símbolo', 'bullicioso', 'bulevar', 'pasado', 'urbanos', 'enorme', 'lugar', 'degustaciones', 'goya', 'político', 'real', 'española', 'exposiciones', 'monarquía', 'referencia', 'popular', 'alemán', 'al', 'cocina', 'sobre', 'habitaciones', 'tiene', 'clubes', 'cuentan', 'explorar', 'incluye', 'parque', 'caminar', '“majrit”', 'torre', 'y', 'económico', 'incluyen', 'especial', 'bares', 'borussia', 'pesada', 'destaca', 'museo', 'corazón', 'visitante', 'tradicionales', 'cervezas', 'park', 'enfoque', 'rosas', 'emblemática', 'significa', 'ceremonias', 'permiten', 'triunfos', 'evento', 'muchas', 'colección', 'agua”', 'mercado', 'guerra', 'centro', 'panorámicas', 'arte', 'mundo', 'increíble', 'locales', 'reúnen', 'puerta', 'tours', 'hoy', 'se', 'punto', 'visitan', 'westfalenpark', 'del', 'famosas', 'aficionados', '882', 'naturaleza', 'bienvenida', 'ofrecen', 'período', 'greco', 'gastronómica', 'industriales', '2015', 'interactiva', 'antigua', 'populares', 'luces', 'desde', 'alberga', 'famosos', 'la', 'gastronomía', 'objetivo', 'plaza', 'maestros', 'madrileña', 'producción', 'cervecera', 'cristal', 'nochevieja', 'testimonio', 'vía', 'u-tower', 'fue', 'debido', 'amenazadas', 'monumentos', 'exitosos', 'reinold', 'restaurantes', 'capital', 'para', 'mirada', 'árabe', 'navidad', 'vibrantes', 'reinoldikirche', 'otros', 'mercados', 'hasta', 'doce', 'comer', 'destino', 'días', 'musulmanes', 'amantes', 'perteneciente', 'como', 'ciudad', 'florian', 'escena', 'ha', 'visitantes', 'encontrar', 'esenciales', 'navideños', 'export', 'esplendor', 'grandes', 'vibrante', 'proporciona', 'alimentos', 'el', 'industrial', 'europeos', 'mundial', 'artistas', 'cocido', 'copas', 'uvas', 'madrid', 'segunda', 'festiva', 'árbol', 'delicias', 'perfecto', 'destacado', 'lager', 'ofrece', 'deslumbrantes', 'estudios', 'estanques', 'en', 'inaugurado', 'región', 'venden', 'gigantesco', 'bebidas', 'lineal', 'fútbol', 'dortmund', 'proviene', 'efectos', 'patatas', 'atrae', 'santiago', 'decoraciones', 'convierte', 'museos', 'especies', '“fuente', 'usa', 'regalos', 'verde', 'festivos', 'nombre', 'especialmente', 'actividades', 'reconvertida', 'todo', 'antiguo', 'occidental', 'madrileño', 'turistas', 'residencias', 'industria', 'experimentar', 'significativo', 'todos', 'cervecería', 'respiro', 'alta', 'imprescindible', 'medieval', 'siglo', 'fundada', 'es', 'casa', 'acero', 'villa', 'un', 'uno', 'pulmón', 'signal', 'historia', 'cualquier', 'encuentro', 'famoso', 'urbana', 'verdes', 'cervecerías', '-', '3,000', 'velázquez', 'animales', 'ix', 'áreas', 'deporte', 'nuevo', 'disfrutar', 'iglesia', 'su', 'dinámico', 'teatros', 'principalmente', 'siglos', 'tipo', 'pequeña', 'país', 'una', 'prado', 'las']\n"
          ]
        }
      ]
    },
    {
      "cell_type": "code",
      "source": [
        "# Número total de términos en el diccionario\n",
        "total_terminos = len(diccionario_palabras_normalizado)\n",
        "\n",
        "# Mostrar el número total de términos en el diccionario\n",
        "print(\"Número total de términos en el diccionario:\", total_terminos)\n"
      ],
      "metadata": {
        "colab": {
          "base_uri": "https://localhost:8080/"
        },
        "id": "yRGoQv8YX1t8",
        "outputId": "46eae5ff-b473-440b-d4cf-73fb2aa5d001"
      },
      "execution_count": 16,
      "outputs": [
        {
          "output_type": "stream",
          "name": "stdout",
          "text": [
            "Número total de términos en el diccionario: 378\n"
          ]
        }
      ]
    },
    {
      "cell_type": "markdown",
      "source": [
        "# Matriz de conteo: Documentos X term-diccionario (20 X n)\n",
        "# Generando primer CSV\n"
      ],
      "metadata": {
        "id": "eqPphnqRLXeC"
      }
    },
    {
      "cell_type": "code",
      "source": [
        "#Matriz de categorias# Inicializar matriz de conteo de palabras por texto\n",
        "matriz_conteo = []\n",
        "\n",
        "# Recorrer cada texto\n",
        "for texto_tokens in [texto1_tokens, texto2_tokens, texto3_tokens, texto4_tokens, texto5_tokens,\n",
        "                     texto6_tokens, texto7_tokens, texto8_tokens, texto9_tokens, texto10_tokens,\n",
        "                     texto11_tokens, texto12_tokens, texto13_tokens, texto14_tokens, texto15_tokens,\n",
        "                     texto16_tokens, texto17_tokens, texto18_tokens, texto19_tokens, texto20_tokens]:\n",
        "    # Inicializar vector de conteo para el texto actual\n",
        "    conteo_texto = []\n",
        "    # Recorrer cada término en el diccionario\n",
        "    for palabra_diccionario in diccionario_palabras_normalizado:\n",
        "        # Contar la frecuencia de la palabra en el texto actual\n",
        "        frecuencia = texto_tokens.count(palabra_diccionario)\n",
        "        # Agregar el conteo al vector de conteo del texto actual\n",
        "        conteo_texto.append(frecuencia)\n",
        "    # Agregar el vector de conteo del texto actual a la matriz de conteo\n",
        "    matriz_conteo.append(conteo_texto)\n",
        "# Nombre del archivo CSV de salida\n",
        "nombre_archivo_csv = 'matriz_conteo.csv'\n",
        "\n",
        "# Escribir los datos en el archivo CSV\n",
        "with open(nombre_archivo_csv, 'w', newline='', encoding='utf-8') as archivo_csv:\n",
        "    escritor_csv = csv.writer(archivo_csv)\n",
        "\n",
        "    # Escribir los encabezados\n",
        "    escritor_csv.writerow(['Texto'] + diccionario_palabras_normalizado)\n",
        "\n",
        "    # Escribir los datos de la matriz de conteo\n",
        "    for i, conteo_texto in enumerate(matriz_conteo, start=1):\n",
        "        escritor_csv.writerow([f'Texto {i}'] + conteo_texto)\n",
        "\n",
        "# Imprimir encabezado de las columnas (primeros 10 términos del diccionario)\n",
        "print(\"  \".join(diccionario_palabras_normalizado[:10]) + \"  ...  \" + \"  \".join(diccionario_palabras_normalizado[-10:]))\n",
        "\n",
        "# Recorrer cada texto\n",
        "for i, conteo_texto in enumerate(matriz_conteo, start=1):\n",
        "    # Convertir el conteo de palabras a una cadena de texto\n",
        "    conteo_texto_str = \"  \".join(map(str, conteo_texto))\n",
        "    # Imprimir la fila de conteo de palabras para el texto actual\n",
        "    print(f\"Texto {i}: {conteo_texto_str[:50]} ... {conteo_texto_str[-50:]}\")"
      ],
      "metadata": {
        "colab": {
          "base_uri": "https://localhost:8080/"
        },
        "id": "HZoJm2Q0P6c2",
        "outputId": "922b017a-b1fb-4527-a7ee-d31c50c7d2b2"
      },
      "execution_count": 29,
      "outputs": [
        {
          "output_type": "stream",
          "name": "stdout",
          "text": [
            "importante  familias  son  este  conocida  españa  antiguamente  bernabéu  entretenida  familia  ...  dinámico  teatros  principalmente  siglos  tipo  pequeña  país  una  prado  las\n",
            "Texto 1: 0  0  0  0  0  2  0  0  0  0  0  0  1  0  0  0  0  ...  1  0  0  0  0  0  1  0  0  0  1  0  0  0  1  0  0\n",
            "Texto 2: 0  0  0  0  0  1  0  0  0  1  0  0  0  0  0  0  0  ...  0  0  0  0  0  0  0  0  0  1  0  0  0  0  1  0  1\n",
            "Texto 3: 0  0  0  0  0  0  0  0  0  0  0  0  0  0  0  1  0  ...  0  0  0  0  0  0  0  0  0  0  0  0  0  0  1  1  0\n",
            "Texto 4: 0  0  0  1  0  0  1  0  0  0  0  0  0  0  0  0  1  ...  0  0  0  0  0  0  0  0  0  0  0  0  0  0  0  0  0\n",
            "Texto 5: 0  0  1  0  0  0  0  0  0  0  0  0  0  0  1  0  0  ...  0  0  0  0  0  0  1  0  0  0  0  0  0  0  0  0  1\n",
            "Texto 6: 0  0  0  1  1  0  0  0  0  0  0  0  0  0  0  0  0  ...  0  0  0  0  0  0  0  0  1  0  0  0  0  0  1  0  1\n",
            "Texto 7: 0  0  0  1  0  0  0  1  0  0  1  0  0  0  0  0  0  ...  0  0  0  0  0  0  1  0  0  0  0  0  0  0  1  0  0\n",
            "Texto 8: 0  0  0  0  0  0  0  0  0  0  0  0  0  0  0  0  0  ...  0  0  0  0  0  0  0  0  0  0  0  1  0  0  0  0  0\n",
            "Texto 9: 0  0  1  0  0  0  0  0  0  0  0  1  0  1  0  0  0  ...  0  0  0  1  0  0  0  0  0  0  0  0  0  0  1  0  2\n",
            "Texto 10: 0  0  0  0  0  0  0  0  0  0  0  0  0  0  0  0  0  ...  0  1  0  0  1  0  0  0  0  0  0  0  0  0  0  0  0\n",
            "Texto 11: 1  0  0  0  1  0  0  0  0  0  0  0  0  1  0  0  0  ...  0  0  0  0  0  0  1  0  0  0  0  0  1  0  3  0  0\n",
            "Texto 12: 0  0  0  0  0  0  0  0  0  0  0  0  0  0  0  0  0  ...  0  0  0  0  0  0  1  0  0  0  0  0  0  0  1  0  1\n",
            "Texto 13: 0  0  0  0  0  0  0  0  0  0  0  0  0  0  0  0  0  ...  0  0  1  0  0  0  0  0  0  0  0  0  0  0  1  0  0\n",
            "Texto 14: 0  0  0  0  0  0  0  0  0  0  0  0  0  0  0  0  0  ...  0  0  0  0  0  0  1  0  0  0  0  0  0  1  0  0  0\n",
            "Texto 15: 0  0  0  0  0  0  0  0  0  0  0  0  0  0  0  0  0  ...  0  0  0  0  0  0  0  1  0  0  0  0  0  0  1  0  0\n",
            "Texto 16: 0  0  0  0  0  0  0  0  0  0  1  0  0  0  0  0  0  ...  0  0  0  0  0  0  1  0  0  0  0  0  0  0  0  0  0\n",
            "Texto 17: 0  0  0  0  0  0  0  0  0  0  0  0  0  0  0  0  0  ...  0  0  0  0  0  0  0  0  0  0  0  0  0  0  4  0  1\n",
            "Texto 18: 1  0  0  0  0  0  0  0  0  0  0  0  0  0  0  0  0  ...  0  0  0  0  0  1  0  0  0  0  0  0  0  0  1  0  0\n",
            "Texto 19: 0  0  0  1  0  0  0  0  0  0  0  0  0  0  0  0  0  ...  0  0  0  0  0  0  1  0  0  0  0  0  0  0  0  0  0\n",
            "Texto 20: 0  1  0  0  0  0  0  0  0  0  0  0  0  0  0  0  0  ...  0  0  0  0  0  0  0  0  0  0  0  0  0  0  1  0  0\n"
          ]
        }
      ]
    },
    {
      "cell_type": "markdown",
      "source": [
        "# PASO 2:  QUERY DE LAS CONSULTAS (Q)"
      ],
      "metadata": {
        "id": "lJScB9roQLDz"
      }
    },
    {
      "cell_type": "code",
      "source": [
        "# Consultas\n",
        "consultas = [\n",
        "    \"Historia medieval de las ciudades europeas\",\n",
        "    \"Principales destinos turísticos en Europa\",\n",
        "    \"Influencia de la realeza en la cultura europea\",\n",
        "    \"Importancia de los parques urbanos en las ciudades\",\n",
        "    \"Gastronomía típica en capitales europeas\",\n",
        "    \"Eventos deportivos icónicos en Europa\",\n",
        "    \"Celebraciones de Navidad en ciudades europeas\",\n",
        "    \"Museos de arte importantes en Europa\",\n",
        "    \"Efectos de la Segunda Guerra Mundial en ciudades europeas\",\n",
        "    \"Arquitectura histórica en ciudades europeas\",\n",
        "    \"Clubes de fútbol famosos y sus estadios en Europa\",\n",
        "    \"Transformación urbana y regeneración de espacios\",\n",
        "    \"Tradición cervecera en ciudades europeas\",\n",
        "    \"Mercados y comercio tradicional en Europa\",\n",
        "    \"Centros de arte y creatividad en ciudades modernas\",\n",
        "    \"Actividades de ocio y entretenimiento en ciudades metropolitanas\",\n",
        "    \"Conservación de la naturaleza y la vida silvestre en zonas urbanas\",\n",
        "    \"Planificación de eventos culturales y festivales en ciudades\",\n",
        "    \"Desarrollo del transporte y la infraestructura urbana\",\n",
        "    \"Impacto de la tecnología en la vida urbana\"\n",
        "]\n"
      ],
      "metadata": {
        "id": "A0ukQtl3Qjnb"
      },
      "execution_count": 19,
      "outputs": []
    },
    {
      "cell_type": "markdown",
      "source": [
        "# Crear la matriz de consultas"
      ],
      "metadata": {
        "id": "FoHP4jNXQsYA"
      }
    },
    {
      "cell_type": "code",
      "source": [
        "\n",
        "matriz_consultas = []\n",
        "\n",
        "# Crear la matriz\n",
        "for i, consulta in enumerate(consultas, start=1):\n",
        "    # Normalizar la consulta y contar términos\n",
        "    consulta_normalizada = consulta.lower()\n",
        "    numero_terminos = len(consulta.split())\n",
        "    # Agregar la consulta y el número de términos a la matriz\n",
        "    matriz_consultas.append([f\"q{i}\", #consulta_normalizada,\n",
        "                             numero_terminos])"
      ],
      "metadata": {
        "id": "08xf-R-zQjkU"
      },
      "execution_count": 20,
      "outputs": []
    },
    {
      "cell_type": "markdown",
      "source": [
        "# Mostrar la matriz de consultas"
      ],
      "metadata": {
        "id": "lNtBrnnpQyMN"
      }
    },
    {
      "cell_type": "code",
      "source": [
        "\n",
        "print(\"Matriz de consultas:\")\n",
        "for fila in matriz_consultas:\n",
        "    print(fila)"
      ],
      "metadata": {
        "colab": {
          "base_uri": "https://localhost:8080/"
        },
        "id": "0Kj_a0RUQxBB",
        "outputId": "dbf3ce36-2892-48db-c4c3-0820d6d60b04"
      },
      "execution_count": 21,
      "outputs": [
        {
          "output_type": "stream",
          "name": "stdout",
          "text": [
            "Matriz de consultas:\n",
            "['q1', 6]\n",
            "['q2', 5]\n",
            "['q3', 8]\n",
            "['q4', 8]\n",
            "['q5', 5]\n",
            "['q6', 5]\n",
            "['q7', 6]\n",
            "['q8', 6]\n",
            "['q9', 9]\n",
            "['q10', 5]\n",
            "['q11', 9]\n",
            "['q12', 6]\n",
            "['q13', 5]\n",
            "['q14', 6]\n",
            "['q15', 8]\n",
            "['q16', 8]\n",
            "['q17', 11]\n",
            "['q18', 8]\n",
            "['q19', 7]\n",
            "['q20', 8]\n"
          ]
        }
      ]
    },
    {
      "cell_type": "markdown",
      "source": [
        "#PASO 3: Matriz 20 x n  (Q')"
      ],
      "metadata": {
        "id": "btgDAE-zQ4Y2"
      }
    },
    {
      "cell_type": "code",
      "source": [
        "\n",
        "print(\"\\n\\nMatriz Q'\\n\")\n",
        "# Crear la matriz de consultas con conteos de términos\n",
        "matriz_consultas_conteo = []\n",
        "\n",
        "# Recorrer cada consulta\n",
        "for consulta in consultas:\n",
        "    # Tokenizar la consulta\n",
        "    consulta_tokens = [palabra.lower() for palabra in consulta.split() if palabra.isalnum()]\n",
        "    # Inicializar el vector de conteo para la consulta actual\n",
        "    conteo_consulta = []\n",
        "    # Recorrer cada término en el diccionario de palabras normalizado\n",
        "    for palabra_diccionario in diccionario_palabras_normalizado:\n",
        "        # Contar la frecuencia de la palabra en la consulta actual\n",
        "        frecuencia = consulta_tokens.count(palabra_diccionario)\n",
        "        # Agregar el conteo al vector de conteo de la consulta actual\n",
        "        conteo_consulta.append(frecuencia)\n",
        "    # Agregar el vector de conteo de la consulta actual a la matriz de consultas\n",
        "    matriz_consultas_conteo.append(conteo_consulta)\n"
      ],
      "metadata": {
        "colab": {
          "base_uri": "https://localhost:8080/"
        },
        "id": "DUPVS9RbQ3wG",
        "outputId": "e0dfc2b0-e270-44a8-d247-b92562d10879"
      },
      "execution_count": 24,
      "outputs": [
        {
          "output_type": "stream",
          "name": "stdout",
          "text": [
            "\n",
            "\n",
            "Matriz Q'\n",
            "\n"
          ]
        }
      ]
    },
    {
      "cell_type": "markdown",
      "source": [
        "# Mostrar la matriz de consultas por conteos de términos\n"
      ],
      "metadata": {
        "id": "kj_7sdKORGFF"
      }
    },
    {
      "cell_type": "code",
      "source": [
        "print(\"\\nMatriz de consultas con conteos de términos:\")\n",
        "for i, conteo_consulta in enumerate(matriz_consultas_conteo, start=1):\n",
        "    # Convertir el conteo de términos a una cadena de texto\n",
        "    conteo_consulta_str = \"  \".join(map(str, conteo_consulta))\n",
        "    # Imprimir la fila de conteo de términos para la consulta actual\n",
        "    print(f\"Consulta {i}: {conteo_consulta_str[:50]} ... {conteo_consulta_str[-50:]}\")\n",
        ""
      ],
      "metadata": {
        "id": "eT1R2H1EQvsK",
        "colab": {
          "base_uri": "https://localhost:8080/"
        },
        "outputId": "7db3fefb-263d-40f5-db6e-eaa2777be811"
      },
      "execution_count": 25,
      "outputs": [
        {
          "output_type": "stream",
          "name": "stdout",
          "text": [
            "\n",
            "Matriz de consultas con conteos de términos:\n",
            "Consulta 1: 0  0  0  0  0  0  0  0  0  0  0  0  0  0  0  0  0  ...  0  0  0  0  0  0  0  0  0  0  0  0  0  0  0  0  1\n",
            "Consulta 2: 0  0  0  0  0  0  0  0  0  0  0  0  0  0  0  0  0  ...  0  0  0  0  0  0  0  0  0  0  0  0  0  0  0  0  0\n",
            "Consulta 3: 0  0  0  0  0  0  0  0  0  0  0  0  0  0  0  0  0  ...  0  0  0  0  0  0  0  0  0  0  0  0  0  0  0  0  0\n",
            "Consulta 4: 0  0  0  0  0  0  0  0  0  0  0  0  0  0  0  0  0  ...  0  0  0  0  0  0  0  0  0  0  0  0  0  0  0  0  1\n",
            "Consulta 5: 0  0  0  0  0  0  0  0  0  0  0  0  0  0  0  0  0  ...  0  0  0  0  0  0  0  0  0  0  0  0  0  0  0  0  0\n",
            "Consulta 6: 0  0  0  0  0  0  0  0  0  0  0  0  0  0  0  0  0  ...  0  0  0  0  0  0  0  0  0  0  0  0  0  0  0  0  0\n",
            "Consulta 7: 0  0  0  0  0  0  0  0  0  0  0  0  0  0  0  0  0  ...  0  0  0  0  0  0  0  0  0  0  0  0  0  0  0  0  0\n",
            "Consulta 8: 0  0  0  0  0  0  0  0  0  0  0  0  0  0  0  0  0  ...  0  0  0  0  0  0  0  0  0  0  0  0  0  0  0  0  0\n",
            "Consulta 9: 0  0  0  0  0  0  0  0  0  0  0  0  0  0  0  0  0  ...  0  0  0  0  0  0  0  0  0  0  0  0  0  0  0  0  0\n",
            "Consulta 10: 0  0  0  0  0  0  0  0  0  0  0  0  0  0  0  0  0  ...  0  0  0  0  0  0  0  0  0  0  0  0  0  0  0  0  0\n",
            "Consulta 11: 0  0  0  0  0  0  0  0  0  0  0  0  0  0  0  0  0  ...  0  0  0  0  0  0  0  0  0  0  0  0  0  0  0  0  0\n",
            "Consulta 12: 0  0  0  0  0  0  0  0  0  0  0  0  0  0  0  0  0  ...  0  0  0  0  0  0  0  0  0  0  0  0  0  0  0  0  0\n",
            "Consulta 13: 0  0  0  0  0  0  0  0  0  0  0  0  0  0  0  0  0  ...  0  0  0  0  0  0  0  0  0  0  0  0  0  0  0  0  0\n",
            "Consulta 14: 0  0  0  0  0  0  0  0  0  0  0  0  0  0  0  0  0  ...  0  0  0  0  0  0  0  0  0  0  0  0  0  0  0  0  0\n",
            "Consulta 15: 0  0  0  0  0  0  0  0  0  0  0  0  0  0  0  0  0  ...  0  0  0  0  0  0  0  0  0  0  0  0  0  0  0  0  0\n",
            "Consulta 16: 0  0  0  0  0  0  0  0  0  0  0  0  0  0  0  0  0  ...  0  0  0  0  0  0  0  0  0  0  0  0  0  0  0  0  0\n",
            "Consulta 17: 0  0  0  0  0  0  0  0  0  0  0  0  0  0  0  0  0  ...  0  0  0  0  0  0  0  0  0  0  0  0  0  0  0  0  0\n",
            "Consulta 18: 0  0  0  0  0  0  0  0  0  0  0  0  0  0  0  0  0  ...  0  0  0  0  0  0  0  0  0  0  0  0  0  0  0  0  0\n",
            "Consulta 19: 0  0  0  0  0  0  0  0  0  0  0  0  0  0  0  0  0  ...  0  0  0  0  0  0  0  0  0  0  0  0  0  0  0  0  0\n",
            "Consulta 20: 0  0  0  0  0  0  0  0  0  0  0  0  0  0  0  0  0  ...  0  0  0  0  0  0  0  0  0  0  0  0  0  0  0  0  0\n"
          ]
        }
      ]
    },
    {
      "cell_type": "markdown",
      "source": [
        "#PASO 4: Matriz de distancias."
      ],
      "metadata": {
        "id": "2zBcX9b-S5Dk"
      }
    },
    {
      "cell_type": "code",
      "source": [
        "print(\"\\n\\nMatriz de distancias\\n\\n\")\n",
        "\n",
        "\n",
        "# Convertir las matrices de conteo de términos a matrices numpy para facilitar los cálculos\n",
        "matriz_conteo_np = np.array(matriz_conteo)\n",
        "matriz_consultas_conteo_np = np.array(matriz_consultas_conteo)\n",
        "\n",
        "# Calcular la distancia del coseno entre cada par de consulta y documento\n",
        "distancias_cos = cosine_similarity(matriz_consultas_conteo_np, matriz_conteo_np)\n",
        "\n",
        "# Mostrar la matriz de distancias del coseno\n",
        "print(\"\\nMatriz de distancias del coseno entre consultas y documentos:\")\n",
        "for i in range(len(consultas)):\n",
        "    for j in range(len(textos)):\n",
        "        print(f\"Distancia entre Consulta {i+1} y Texto {j+1}: {distancias_cos[i][j]}\")\n"
      ],
      "metadata": {
        "id": "hZRc0HfHQvur",
        "colab": {
          "base_uri": "https://localhost:8080/"
        },
        "outputId": "84ccb128-a61b-4378-9dc5-554d3fc4a40f"
      },
      "execution_count": 26,
      "outputs": [
        {
          "output_type": "stream",
          "name": "stdout",
          "text": [
            "\n",
            "\n",
            "Matriz de distancias\n",
            "\n",
            "\n",
            "\n",
            "Matriz de distancias del coseno entre consultas y documentos:\n",
            "Distancia entre Consulta 1 y Texto 1: 0.3731012536223183\n",
            "Distancia entre Consulta 1 y Texto 2: 0.4142585780542455\n",
            "Distancia entre Consulta 1 y Texto 3: 0.18190171877724973\n",
            "Distancia entre Consulta 1 y Texto 4: 0.24433888871261045\n",
            "Distancia entre Consulta 1 y Texto 5: 0.16666666666666666\n",
            "Distancia entre Consulta 1 y Texto 6: 0.2857142857142857\n",
            "Distancia entre Consulta 1 y Texto 7: 0.16269784336399212\n",
            "Distancia entre Consulta 1 y Texto 8: 0.13608276348795434\n",
            "Distancia entre Consulta 1 y Texto 9: 0.2795084971874737\n",
            "Distancia entre Consulta 1 y Texto 10: 0.1259881576697424\n",
            "Distancia entre Consulta 1 y Texto 11: 0.2581988897471611\n",
            "Distancia entre Consulta 1 y Texto 12: 0.3216337604513384\n",
            "Distancia entre Consulta 1 y Texto 13: 0.09667364890456635\n",
            "Distancia entre Consulta 1 y Texto 14: 0.3546496828075953\n",
            "Distancia entre Consulta 1 y Texto 15: 0.3144854510165755\n",
            "Distancia entre Consulta 1 y Texto 16: 0.16770509831248423\n",
            "Distancia entre Consulta 1 y Texto 17: 0.2407717061715384\n",
            "Distancia entre Consulta 1 y Texto 18: 0.34020690871988585\n",
            "Distancia entre Consulta 1 y Texto 19: 0.0668153104781061\n",
            "Distancia entre Consulta 1 y Texto 20: 0.29061909685954823\n",
            "Distancia entre Consulta 2 y Texto 1: 0.0753778361444409\n",
            "Distancia entre Consulta 2 y Texto 2: 0.06509445549041193\n",
            "Distancia entre Consulta 2 y Texto 3: 0.0\n",
            "Distancia entre Consulta 2 y Texto 4: 0.0\n",
            "Distancia entre Consulta 2 y Texto 5: 0.1178511301977579\n",
            "Distancia entre Consulta 2 y Texto 6: 0.0\n",
            "Distancia entre Consulta 2 y Texto 7: 0.07669649888473704\n",
            "Distancia entre Consulta 2 y Texto 8: 0.19245008972987523\n",
            "Distancia entre Consulta 2 y Texto 9: 0.07905694150420947\n",
            "Distancia entre Consulta 2 y Texto 10: 0.17817416127494956\n",
            "Distancia entre Consulta 2 y Texto 11: 0.27386127875258304\n",
            "Distancia entre Consulta 2 y Texto 12: 0.227429413073671\n",
            "Distancia entre Consulta 2 y Texto 13: 0.20507577810739894\n",
            "Distancia entre Consulta 2 y Texto 14: 0.0\n",
            "Distancia entre Consulta 2 y Texto 15: 0.0\n",
            "Distancia entre Consulta 2 y Texto 16: 0.15811388300841894\n",
            "Distancia entre Consulta 2 y Texto 17: 0.0\n",
            "Distancia entre Consulta 2 y Texto 18: 0.0\n",
            "Distancia entre Consulta 2 y Texto 19: 0.1889822365046136\n",
            "Distancia entre Consulta 2 y Texto 20: 0.08219949365267865\n",
            "Distancia entre Consulta 3 y Texto 1: 0.4351941398892446\n",
            "Distancia entre Consulta 3 y Texto 2: 0.4134053154015559\n",
            "Distancia entre Consulta 3 y Texto 3: 0.14852213144650117\n",
            "Distancia entre Consulta 3 y Texto 4: 0.3990037344430532\n",
            "Distancia entre Consulta 3 y Texto 5: 0.13608276348795434\n",
            "Distancia entre Consulta 3 y Texto 6: 0.2916059217599022\n",
            "Distancia entre Consulta 3 y Texto 7: 0.13284223283101432\n",
            "Distancia entre Consulta 3 y Texto 8: 0.44444444444444453\n",
            "Distancia entre Consulta 3 y Texto 9: 0.4564354645876385\n",
            "Distancia entre Consulta 3 y Texto 10: 0.3086066999241838\n",
            "Distancia entre Consulta 3 y Texto 11: 0.3689323936863109\n",
            "Distancia entre Consulta 3 y Texto 12: 0.48145692048564936\n",
            "Distancia entre Consulta 3 y Texto 13: 0.23680111138915755\n",
            "Distancia entre Consulta 3 y Texto 14: 0.35391919864828286\n",
            "Distancia entre Consulta 3 y Texto 15: 0.34236839400873037\n",
            "Distancia entre Consulta 3 y Texto 16: 0.31950482521134693\n",
            "Distancia entre Consulta 3 y Texto 17: 0.4423258684646914\n",
            "Distancia entre Consulta 3 y Texto 18: 0.5555555555555556\n",
            "Distancia entre Consulta 3 y Texto 19: 0.490990253030983\n",
            "Distancia entre Consulta 3 y Texto 20: 0.4745789978762496\n",
            "Distancia entre Consulta 4 y Texto 1: 0.3481553119113957\n",
            "Distancia entre Consulta 4 y Texto 2: 0.30065841120113157\n",
            "Distancia entre Consulta 4 y Texto 3: 0.2475368857441686\n",
            "Distancia entre Consulta 4 y Texto 4: 0.1995018672215266\n",
            "Distancia entre Consulta 4 y Texto 5: 0.2041241452319315\n",
            "Distancia entre Consulta 4 y Texto 6: 0.23328473740792174\n",
            "Distancia entre Consulta 4 y Texto 7: 0.26568446566202863\n",
            "Distancia entre Consulta 4 y Texto 8: 0.22222222222222227\n",
            "Distancia entre Consulta 4 y Texto 9: 0.2738612787525831\n",
            "Distancia entre Consulta 4 y Texto 10: 0.20573779994945587\n",
            "Distancia entre Consulta 4 y Texto 11: 0.26352313834736496\n",
            "Distancia entre Consulta 4 y Texto 12: 0.5252257314388903\n",
            "Distancia entre Consulta 4 y Texto 13: 0.23680111138915752\n",
            "Distancia entre Consulta 4 y Texto 14: 0.3539191986482828\n",
            "Distancia entre Consulta 4 y Texto 15: 0.2567762955065478\n",
            "Distancia entre Consulta 4 y Texto 16: 0.2738612787525831\n",
            "Distancia entre Consulta 4 y Texto 17: 0.1965892748731962\n",
            "Distancia entre Consulta 4 y Texto 18: 0.27777777777777785\n",
            "Distancia entre Consulta 4 y Texto 19: 0.21821789023599242\n",
            "Distancia entre Consulta 4 y Texto 20: 0.2847473987257498\n",
            "Distancia entre Consulta 5 y Texto 1: 0.0753778361444409\n",
            "Distancia entre Consulta 5 y Texto 2: 0.0\n",
            "Distancia entre Consulta 5 y Texto 3: 0.0\n",
            "Distancia entre Consulta 5 y Texto 4: 0.0\n",
            "Distancia entre Consulta 5 y Texto 5: 0.2357022603955158\n",
            "Distancia entre Consulta 5 y Texto 6: 0.0\n",
            "Distancia entre Consulta 5 y Texto 7: 0.07669649888473704\n",
            "Distancia entre Consulta 5 y Texto 8: 0.19245008972987523\n",
            "Distancia entre Consulta 5 y Texto 9: 0.07905694150420947\n",
            "Distancia entre Consulta 5 y Texto 10: 0.17817416127494956\n",
            "Distancia entre Consulta 5 y Texto 11: 0.27386127875258304\n",
            "Distancia entre Consulta 5 y Texto 12: 0.15161960871578067\n",
            "Distancia entre Consulta 5 y Texto 13: 0.20507577810739894\n",
            "Distancia entre Consulta 5 y Texto 14: 0.0\n",
            "Distancia entre Consulta 5 y Texto 15: 0.0\n",
            "Distancia entre Consulta 5 y Texto 16: 0.15811388300841894\n",
            "Distancia entre Consulta 5 y Texto 17: 0.0\n",
            "Distancia entre Consulta 5 y Texto 18: 0.0\n",
            "Distancia entre Consulta 5 y Texto 19: 0.1889822365046136\n",
            "Distancia entre Consulta 5 y Texto 20: 0.08219949365267865\n",
            "Distancia entre Consulta 6 y Texto 1: 0.0753778361444409\n",
            "Distancia entre Consulta 6 y Texto 2: 0.06509445549041193\n",
            "Distancia entre Consulta 6 y Texto 3: 0.0\n",
            "Distancia entre Consulta 6 y Texto 4: 0.0\n",
            "Distancia entre Consulta 6 y Texto 5: 0.1178511301977579\n",
            "Distancia entre Consulta 6 y Texto 6: 0.0\n",
            "Distancia entre Consulta 6 y Texto 7: 0.07669649888473704\n",
            "Distancia entre Consulta 6 y Texto 8: 0.19245008972987523\n",
            "Distancia entre Consulta 6 y Texto 9: 0.07905694150420947\n",
            "Distancia entre Consulta 6 y Texto 10: 0.17817416127494956\n",
            "Distancia entre Consulta 6 y Texto 11: 0.27386127875258304\n",
            "Distancia entre Consulta 6 y Texto 12: 0.227429413073671\n",
            "Distancia entre Consulta 6 y Texto 13: 0.20507577810739894\n",
            "Distancia entre Consulta 6 y Texto 14: 0.0\n",
            "Distancia entre Consulta 6 y Texto 15: 0.0\n",
            "Distancia entre Consulta 6 y Texto 16: 0.15811388300841894\n",
            "Distancia entre Consulta 6 y Texto 17: 0.0\n",
            "Distancia entre Consulta 6 y Texto 18: 0.0\n",
            "Distancia entre Consulta 6 y Texto 19: 0.1889822365046136\n",
            "Distancia entre Consulta 6 y Texto 20: 0.08219949365267865\n",
            "Distancia entre Consulta 7 y Texto 1: 0.36927447293799825\n",
            "Distancia entre Consulta 7 y Texto 2: 0.37204580241691376\n",
            "Distancia entre Consulta 7 y Texto 3: 0.2100420126042015\n",
            "Distancia entre Consulta 7 y Texto 4: 0.28213824634343937\n",
            "Distancia entre Consulta 7 y Texto 5: 0.19245008972987526\n",
            "Distancia entre Consulta 7 y Texto 6: 0.24743582965269678\n",
            "Distancia entre Consulta 7 y Texto 7: 0.18786728732554486\n",
            "Distancia entre Consulta 7 y Texto 8: 0.47140452079103173\n",
            "Distancia entre Consulta 7 y Texto 9: 0.25819888974716115\n",
            "Distancia entre Consulta 7 y Texto 10: 0.29095718698132317\n",
            "Distancia entre Consulta 7 y Texto 11: 0.372677996249965\n",
            "Distancia entre Consulta 7 y Texto 12: 0.433289122413121\n",
            "Distancia entre Consulta 7 y Texto 13: 0.22325822887437904\n",
            "Distancia entre Consulta 7 y Texto 14: 0.5460189062319482\n",
            "Distancia entre Consulta 7 y Texto 15: 0.3631365196012815\n",
            "Distancia entre Consulta 7 y Texto 16: 0.32274861218395146\n",
            "Distancia entre Consulta 7 y Texto 17: 0.20851441405707477\n",
            "Distancia entre Consulta 7 y Texto 18: 0.3142696805273545\n",
            "Distancia entre Consulta 7 y Texto 19: 0.2314550249431379\n",
            "Distancia entre Consulta 7 y Texto 20: 0.40269363312841466\n",
            "Distancia entre Consulta 8 y Texto 1: 0.2860387767736777\n",
            "Distancia entre Consulta 8 y Texto 2: 0.3293547878370473\n",
            "Distancia entre Consulta 8 y Texto 3: 0.2711630722733202\n",
            "Distancia entre Consulta 8 y Texto 4: 0.21854334588326121\n",
            "Distancia entre Consulta 8 y Texto 5: 0.14907119849998596\n",
            "Distancia entre Consulta 8 y Texto 6: 0.19166296949998196\n",
            "Distancia entre Consulta 8 y Texto 7: 0.14552137502179976\n",
            "Distancia entre Consulta 8 y Texto 8: 0.24343224778007383\n",
            "Distancia entre Consulta 8 y Texto 9: 0.19999999999999998\n",
            "Distancia entre Consulta 8 y Texto 10: 0.22537446792760438\n",
            "Distancia entre Consulta 8 y Texto 11: 0.28867513459481287\n",
            "Distancia entre Consulta 8 y Texto 12: 0.38357064118830725\n",
            "Distancia entre Consulta 8 y Texto 13: 0.17293508046684675\n",
            "Distancia entre Consulta 8 y Texto 14: 0.3172083195826086\n",
            "Distancia entre Consulta 8 y Texto 15: 0.3750457847507963\n",
            "Distancia entre Consulta 8 y Texto 16: 0.25\n",
            "Distancia entre Consulta 8 y Texto 17: 0.16151457061744964\n",
            "Distancia entre Consulta 8 y Texto 18: 0.24343224778007383\n",
            "Distancia entre Consulta 8 y Texto 19: 0.23904572186687872\n",
            "Distancia entre Consulta 8 y Texto 20: 0.3119251469460218\n",
            "Distancia entre Consulta 9 y Texto 1: 0.3223291856101521\n",
            "Distancia entre Consulta 9 y Texto 2: 0.3131500502876494\n",
            "Distancia entre Consulta 9 y Texto 3: 0.13750477455423168\n",
            "Distancia entre Consulta 9 y Texto 4: 0.2770542579237661\n",
            "Distancia entre Consulta 9 y Texto 5: 0.1259881576697424\n",
            "Distancia entre Consulta 9 y Texto 6: 0.21597969886241553\n",
            "Distancia entre Consulta 9 y Texto 7: 0.12298800925361816\n",
            "Distancia entre Consulta 9 y Texto 8: 0.3086066999241838\n",
            "Distancia entre Consulta 9 y Texto 9: 0.2958039891549808\n",
            "Distancia entre Consulta 9 y Texto 10: 0.23809523809523803\n",
            "Distancia entre Consulta 9 y Texto 11: 0.2927700218845599\n",
            "Distancia entre Consulta 9 y Texto 12: 0.36469840431289846\n",
            "Distancia entre Consulta 9 y Texto 13: 0.1826960238104674\n",
            "Distancia entre Consulta 9 y Texto 14: 0.2978777343672496\n",
            "Distancia entre Consulta 9 y Texto 15: 0.2773500981126145\n",
            "Distancia entre Consulta 9 y Texto 16: 0.253546276418555\n",
            "Distancia entre Consulta 9 y Texto 17: 0.273009453115974\n",
            "Distancia entre Consulta 9 y Texto 18: 0.3600411499115478\n",
            "Distancia entre Consulta 9 y Texto 19: 0.6060915267313263\n",
            "Distancia entre Consulta 9 y Texto 20: 0.35149982013099745\n",
            "Distancia entre Consulta 10 y Texto 1: 0.0753778361444409\n",
            "Distancia entre Consulta 10 y Texto 2: 0.0\n",
            "Distancia entre Consulta 10 y Texto 3: 0.0\n",
            "Distancia entre Consulta 10 y Texto 4: 0.0\n",
            "Distancia entre Consulta 10 y Texto 5: 0.1178511301977579\n",
            "Distancia entre Consulta 10 y Texto 6: 0.10101525445522105\n",
            "Distancia entre Consulta 10 y Texto 7: 0.07669649888473704\n",
            "Distancia entre Consulta 10 y Texto 8: 0.19245008972987523\n",
            "Distancia entre Consulta 10 y Texto 9: 0.07905694150420947\n",
            "Distancia entre Consulta 10 y Texto 10: 0.17817416127494956\n",
            "Distancia entre Consulta 10 y Texto 11: 0.27386127875258304\n",
            "Distancia entre Consulta 10 y Texto 12: 0.15161960871578067\n",
            "Distancia entre Consulta 10 y Texto 13: 0.20507577810739894\n",
            "Distancia entre Consulta 10 y Texto 14: 0.0\n",
            "Distancia entre Consulta 10 y Texto 15: 0.0\n",
            "Distancia entre Consulta 10 y Texto 16: 0.15811388300841894\n",
            "Distancia entre Consulta 10 y Texto 17: 0.0\n",
            "Distancia entre Consulta 10 y Texto 18: 0.0\n",
            "Distancia entre Consulta 10 y Texto 19: 0.1889822365046136\n",
            "Distancia entre Consulta 10 y Texto 20: 0.08219949365267865\n",
            "Distancia entre Consulta 11 y Texto 1: 0.30151134457776363\n",
            "Distancia entre Consulta 11 y Texto 2: 0.32547227745205964\n",
            "Distancia entre Consulta 11 y Texto 3: 0.25724787771376323\n",
            "Distancia entre Consulta 11 y Texto 4: 0.259160527674408\n",
            "Distancia entre Consulta 11 y Texto 5: 0.17677669529663687\n",
            "Distancia entre Consulta 11 y Texto 6: 0.3030457633656632\n",
            "Distancia entre Consulta 11 y Texto 7: 0.4218307438660537\n",
            "Distancia entre Consulta 11 y Texto 8: 0.28867513459481287\n",
            "Distancia entre Consulta 11 y Texto 9: 0.1976423537605237\n",
            "Distancia entre Consulta 11 y Texto 10: 0.26726124191242434\n",
            "Distancia entre Consulta 11 y Texto 11: 0.27386127875258304\n",
            "Distancia entre Consulta 11 y Texto 12: 0.37904902178945166\n",
            "Distancia entre Consulta 11 y Texto 13: 0.3076136671610984\n",
            "Distancia entre Consulta 11 y Texto 14: 0.3343669275452117\n",
            "Distancia entre Consulta 11 y Texto 15: 0.3706246583305505\n",
            "Distancia entre Consulta 11 y Texto 16: 0.43481317827315213\n",
            "Distancia entre Consulta 11 y Texto 17: 0.2128141326896871\n",
            "Distancia entre Consulta 11 y Texto 18: 0.24056261216234404\n",
            "Distancia entre Consulta 11 y Texto 19: 0.28347335475692037\n",
            "Distancia entre Consulta 11 y Texto 20: 0.3698977214370539\n",
            "Distancia entre Consulta 12 y Texto 1: 0.3337119062359573\n",
            "Distancia entre Consulta 12 y Texto 2: 0.3705241363166782\n",
            "Distancia entre Consulta 12 y Texto 3: 0.2711630722733202\n",
            "Distancia entre Consulta 12 y Texto 4: 0.32781501882489184\n",
            "Distancia entre Consulta 12 y Texto 5: 0.14907119849998596\n",
            "Distancia entre Consulta 12 y Texto 6: 0.3194382824999699\n",
            "Distancia entre Consulta 12 y Texto 7: 0.24253562503633294\n",
            "Distancia entre Consulta 12 y Texto 8: 0.24343224778007383\n",
            "Distancia entre Consulta 12 y Texto 9: 0.19999999999999998\n",
            "Distancia entre Consulta 12 y Texto 10: 0.28171808490950545\n",
            "Distancia entre Consulta 12 y Texto 11: 0.1732050807568877\n",
            "Distancia entre Consulta 12 y Texto 12: 0.33562431103976886\n",
            "Distancia entre Consulta 12 y Texto 13: 0.08646754023342337\n",
            "Distancia entre Consulta 12 y Texto 14: 0.42294442611014477\n",
            "Distancia entre Consulta 12 y Texto 15: 0.5625686771261945\n",
            "Distancia entre Consulta 12 y Texto 16: 0.3\n",
            "Distancia entre Consulta 12 y Texto 17: 0.21535276082326618\n",
            "Distancia entre Consulta 12 y Texto 18: 0.3042903097250923\n",
            "Distancia entre Consulta 12 y Texto 19: 0.17928429140015906\n",
            "Distancia entre Consulta 12 y Texto 20: 0.41590019592802907\n",
            "Distancia entre Consulta 13 y Texto 1: 0.06154574548966637\n",
            "Distancia entre Consulta 13 y Texto 2: 0.0\n",
            "Distancia entre Consulta 13 y Texto 3: 0.0\n",
            "Distancia entre Consulta 13 y Texto 4: 0.0\n",
            "Distancia entre Consulta 13 y Texto 5: 0.09622504486493763\n",
            "Distancia entre Consulta 13 y Texto 6: 0.0\n",
            "Distancia entre Consulta 13 y Texto 7: 0.06262242910851495\n",
            "Distancia entre Consulta 13 y Texto 8: 0.15713484026367724\n",
            "Distancia entre Consulta 13 y Texto 9: 0.12909944487358058\n",
            "Distancia entre Consulta 13 y Texto 10: 0.14547859349066158\n",
            "Distancia entre Consulta 13 y Texto 11: 0.22360679774997902\n",
            "Distancia entre Consulta 13 y Texto 12: 0.12379689211803459\n",
            "Distancia entre Consulta 13 y Texto 13: 0.16744367165578428\n",
            "Distancia entre Consulta 13 y Texto 14: 0.0\n",
            "Distancia entre Consulta 13 y Texto 15: 0.0\n",
            "Distancia entre Consulta 13 y Texto 16: 0.12909944487358058\n",
            "Distancia entre Consulta 13 y Texto 17: 0.06950480468569159\n",
            "Distancia entre Consulta 13 y Texto 18: 0.0\n",
            "Distancia entre Consulta 13 y Texto 19: 0.15430334996209194\n",
            "Distancia entre Consulta 13 y Texto 20: 0.06711560552140244\n",
            "Distancia entre Consulta 14 y Texto 1: 0.1599005372667078\n",
            "Distancia entre Consulta 14 y Texto 2: 0.13808619268474853\n",
            "Distancia entre Consulta 14 y Texto 3: 0.12126781251816648\n",
            "Distancia entre Consulta 14 y Texto 4: 0.06108472217815261\n",
            "Distancia entre Consulta 14 y Texto 5: 0.16666666666666666\n",
            "Distancia entre Consulta 14 y Texto 6: 0.14285714285714285\n",
            "Distancia entre Consulta 14 y Texto 7: 0.21693045781865616\n",
            "Distancia entre Consulta 14 y Texto 8: 0.34020690871988585\n",
            "Distancia entre Consulta 14 y Texto 9: 0.11180339887498948\n",
            "Distancia entre Consulta 14 y Texto 10: 0.2519763153394848\n",
            "Distancia entre Consulta 14 y Texto 11: 0.2581988897471611\n",
            "Distancia entre Consulta 14 y Texto 12: 0.2680281337094487\n",
            "Distancia entre Consulta 14 y Texto 13: 0.1933472978091327\n",
            "Distancia entre Consulta 14 y Texto 14: 0.15762208124782012\n",
            "Distancia entre Consulta 14 y Texto 15: 0.20965696734438366\n",
            "Distancia entre Consulta 14 y Texto 16: 0.2795084971874737\n",
            "Distancia entre Consulta 14 y Texto 17: 0.0601929265428846\n",
            "Distancia entre Consulta 14 y Texto 18: 0.06804138174397717\n",
            "Distancia entre Consulta 14 y Texto 19: 0.2672612419124244\n",
            "Distancia entre Consulta 14 y Texto 20: 0.23249527748763857\n",
            "Distancia entre Consulta 15 y Texto 1: 0.3813850356982369\n",
            "Distancia entre Consulta 15 y Texto 2: 0.3705241363166782\n",
            "Distancia entre Consulta 15 y Texto 3: 0.32539568672798425\n",
            "Distancia entre Consulta 15 y Texto 4: 0.2731791823540765\n",
            "Distancia entre Consulta 15 y Texto 5: 0.22360679774997894\n",
            "Distancia entre Consulta 15 y Texto 6: 0.3194382824999699\n",
            "Distancia entre Consulta 15 y Texto 7: 0.29104275004359953\n",
            "Distancia entre Consulta 15 y Texto 8: 0.3651483716701107\n",
            "Distancia entre Consulta 15 y Texto 9: 0.24999999999999997\n",
            "Distancia entre Consulta 15 y Texto 10: 0.33806170189140655\n",
            "Distancia entre Consulta 15 y Texto 11: 0.34641016151377546\n",
            "Distancia entre Consulta 15 y Texto 12: 0.4315169713368457\n",
            "Distancia entre Consulta 15 y Texto 13: 0.21616885058355842\n",
            "Distancia entre Consulta 15 y Texto 14: 0.42294442611014477\n",
            "Distancia entre Consulta 15 y Texto 15: 0.6094494002200441\n",
            "Distancia entre Consulta 15 y Texto 16: 0.39999999999999997\n",
            "Distancia entre Consulta 15 y Texto 17: 0.21535276082326618\n",
            "Distancia entre Consulta 15 y Texto 18: 0.3042903097250923\n",
            "Distancia entre Consulta 15 y Texto 19: 0.29880715233359845\n",
            "Distancia entre Consulta 15 y Texto 20: 0.4678877204190327\n",
            "Distancia entre Consulta 16 y Texto 1: 0.4264014327112209\n",
            "Distancia entre Consulta 16 y Texto 2: 0.4142585780542455\n",
            "Distancia entre Consulta 16 y Texto 3: 0.30316953129541624\n",
            "Distancia entre Consulta 16 y Texto 4: 0.3054236108907631\n",
            "Distancia entre Consulta 16 y Texto 5: 0.25\n",
            "Distancia entre Consulta 16 y Texto 6: 0.3571428571428571\n",
            "Distancia entre Consulta 16 y Texto 7: 0.32539568672798425\n",
            "Distancia entre Consulta 16 y Texto 8: 0.408248290463863\n",
            "Distancia entre Consulta 16 y Texto 9: 0.2795084971874737\n",
            "Distancia entre Consulta 16 y Texto 10: 0.4409585518440984\n",
            "Distancia entre Consulta 16 y Texto 11: 0.3872983346207417\n",
            "Distancia entre Consulta 16 y Texto 12: 0.4824506406770076\n",
            "Distancia entre Consulta 16 y Texto 13: 0.2416841222614159\n",
            "Distancia entre Consulta 16 y Texto 14: 0.47286624374346037\n",
            "Distancia entre Consulta 16 y Texto 15: 0.5241424183609591\n",
            "Distancia entre Consulta 16 y Texto 16: 0.4472135954999579\n",
            "Distancia entre Consulta 16 y Texto 17: 0.2407717061715384\n",
            "Distancia entre Consulta 16 y Texto 18: 0.34020690871988585\n",
            "Distancia entre Consulta 16 y Texto 19: 0.33407655239053047\n",
            "Distancia entre Consulta 16 y Texto 20: 0.5231143743471869\n",
            "Distancia entre Consulta 17 y Texto 1: 0.40451991747794525\n",
            "Distancia entre Consulta 17 y Texto 2: 0.3784446313307283\n",
            "Distancia entre Consulta 17 y Texto 3: 0.1917412472118426\n",
            "Distancia entre Consulta 17 y Texto 4: 0.3863337046431279\n",
            "Distancia entre Consulta 17 y Texto 5: 0.15811388300841897\n",
            "Distancia entre Consulta 17 y Texto 6: 0.3162277660168379\n",
            "Distancia entre Consulta 17 y Texto 7: 0.20579830217101058\n",
            "Distancia entre Consulta 17 y Texto 8: 0.43033148291193524\n",
            "Distancia entre Consulta 17 y Texto 9: 0.38890872965260115\n",
            "Distancia entre Consulta 17 y Texto 10: 0.31872762915583824\n",
            "Distancia entre Consulta 17 y Texto 11: 0.32659863237109044\n",
            "Distancia entre Consulta 17 y Texto 12: 0.44074127735352675\n",
            "Distancia entre Consulta 17 y Texto 13: 0.21399624418051005\n",
            "Distancia entre Consulta 17 y Texto 14: 0.3489113503954588\n",
            "Distancia entre Consulta 17 y Texto 15: 0.3977961264790775\n",
            "Distancia entre Consulta 17 y Texto 16: 0.35355339059327373\n",
            "Distancia entre Consulta 17 y Texto 17: 0.3806934938134405\n",
            "Distancia entre Consulta 17 y Texto 18: 0.47336463120312877\n",
            "Distancia entre Consulta 17 y Texto 19: 0.46483484010068415\n",
            "Distancia entre Consulta 17 y Texto 20: 0.5146502354656655\n",
            "Distancia entre Consulta 18 y Texto 1: 0.492365963917331\n",
            "Distancia entre Consulta 18 y Texto 2: 0.4783446031074606\n",
            "Distancia entre Consulta 18 y Texto 3: 0.3500700210070025\n",
            "Distancia entre Consulta 18 y Texto 4: 0.3526728079292992\n",
            "Distancia entre Consulta 18 y Texto 5: 0.28867513459481287\n",
            "Distancia entre Consulta 18 y Texto 6: 0.4123930494211613\n",
            "Distancia entre Consulta 18 y Texto 7: 0.3757345746510897\n",
            "Distancia entre Consulta 18 y Texto 8: 0.47140452079103173\n",
            "Distancia entre Consulta 18 y Texto 9: 0.32274861218395146\n",
            "Distancia entre Consulta 18 y Texto 10: 0.4364357804719847\n",
            "Distancia entre Consulta 18 y Texto 11: 0.447213595499958\n",
            "Distancia entre Consulta 18 y Texto 12: 0.5570860145311556\n",
            "Distancia entre Consulta 18 y Texto 13: 0.2790727860929738\n",
            "Distancia entre Consulta 18 y Texto 14: 0.5460189062319482\n",
            "Distancia entre Consulta 18 y Texto 15: 0.6052275326688025\n",
            "Distancia entre Consulta 18 y Texto 16: 0.5163977794943223\n",
            "Distancia entre Consulta 18 y Texto 17: 0.27801921874276636\n",
            "Distancia entre Consulta 18 y Texto 18: 0.39283710065919314\n",
            "Distancia entre Consulta 18 y Texto 19: 0.38575837490522985\n",
            "Distancia entre Consulta 18 y Texto 20: 0.6040404496926219\n",
            "Distancia entre Consulta 19 y Texto 1: 0.266500895444513\n",
            "Distancia entre Consulta 19 y Texto 2: 0.23014365447458088\n",
            "Distancia entre Consulta 19 y Texto 3: 0.36380343755449945\n",
            "Distancia entre Consulta 19 y Texto 4: 0.3665083330689157\n",
            "Distancia entre Consulta 19 y Texto 5: 0.08333333333333333\n",
            "Distancia entre Consulta 19 y Texto 6: 0.21428571428571427\n",
            "Distancia entre Consulta 19 y Texto 7: 0.21693045781865616\n",
            "Distancia entre Consulta 19 y Texto 8: 0.2721655269759087\n",
            "Distancia entre Consulta 19 y Texto 9: 0.3913118960624632\n",
            "Distancia entre Consulta 19 y Texto 10: 0.2519763153394848\n",
            "Distancia entre Consulta 19 y Texto 11: 0.19364916731037082\n",
            "Distancia entre Consulta 19 y Texto 12: 0.21442250696755896\n",
            "Distancia entre Consulta 19 y Texto 13: 0.3383577711659822\n",
            "Distancia entre Consulta 19 y Texto 14: 0.19702760155977517\n",
            "Distancia entre Consulta 19 y Texto 15: 0.26207120918047955\n",
            "Distancia entre Consulta 19 y Texto 16: 0.22360679774997896\n",
            "Distancia entre Consulta 19 y Texto 17: 0.2407717061715384\n",
            "Distancia entre Consulta 19 y Texto 18: 0.34020690871988585\n",
            "Distancia entre Consulta 19 y Texto 19: 0.33407655239053047\n",
            "Distancia entre Consulta 19 y Texto 20: 0.29061909685954823\n",
            "Distancia entre Consulta 20 y Texto 1: 0.37688918072220445\n",
            "Distancia entre Consulta 20 y Texto 2: 0.3580195051972656\n",
            "Distancia entre Consulta 20 y Texto 3: 0.12862393885688161\n",
            "Distancia entre Consulta 20 y Texto 4: 0.43193421279068\n",
            "Distancia entre Consulta 20 y Texto 5: 0.1178511301977579\n",
            "Distancia entre Consulta 20 y Texto 6: 0.25253813613805265\n",
            "Distancia entre Consulta 20 y Texto 7: 0.11504474832710555\n",
            "Distancia entre Consulta 20 y Texto 8: 0.38490017945975047\n",
            "Distancia entre Consulta 20 y Texto 9: 0.3952847075210474\n",
            "Distancia entre Consulta 20 y Texto 10: 0.26726124191242434\n",
            "Distancia entre Consulta 20 y Texto 11: 0.3195048252113469\n",
            "Distancia entre Consulta 20 y Texto 12: 0.4169539239683968\n",
            "Distancia entre Consulta 20 y Texto 13: 0.20507577810739894\n",
            "Distancia entre Consulta 20 y Texto 14: 0.30650301691644405\n",
            "Distancia entre Consulta 20 y Texto 15: 0.29649972666444047\n",
            "Distancia entre Consulta 20 y Texto 16: 0.27669929526473314\n",
            "Distancia entre Consulta 20 y Texto 17: 0.38306543884143684\n",
            "Distancia entre Consulta 20 y Texto 18: 0.48112522432468807\n",
            "Distancia entre Consulta 20 y Texto 19: 0.42521003213538067\n",
            "Distancia entre Consulta 20 y Texto 20: 0.41099746826339323\n"
          ]
        }
      ]
    },
    {
      "cell_type": "markdown",
      "source": [
        "# PASO 5 : Ranking de distancias mas relevantes"
      ],
      "metadata": {
        "id": "7Ynlger9S_ZL"
      }
    },
    {
      "cell_type": "code",
      "source": [
        "\n",
        "# Función para encontrar las distancias más cercanas a 0 para cada consulta\n",
        "def distancias_cercanas_a_cero(distancias, consultas, textos):\n",
        "    resultados = []  # Lista para almacenar los resultados\n",
        "    for i, consulta in enumerate(consultas):\n",
        "        # Filtrar las distancias para excluir las que sean 0.0\n",
        "        distancias_filtradas = [d for d in distancias[i] if d > 0.0]\n",
        "        # Ordenar las distancias filtradas\n",
        "        distancias_ordenadas = sorted(distancias_filtradas)\n",
        "        # Tomar las tres distancias más cercanas a 0\n",
        "        distancias_cercanas = distancias_ordenadas[:3]\n",
        "        resultados.append((consulta, distancias_cercanas))\n",
        "\n",
        "    return resultados\n",
        "\n",
        "# Calcula las distancias del coseno entre consultas y textos\n",
        "distancias_cos = cosine_similarity(matriz_consultas_conteo_np, matriz_conteo_np)\n",
        "\n",
        "# Obtener los resultados de las distancias cercanas a 0 para cada consulta\n",
        "resultados = distancias_cercanas_a_cero(distancias_cos, consultas, textos)\n",
        "\n",
        "# Guardar los resultados en un archivo de texto\n",
        "with open('resultados.csv', 'w') as archivo:\n",
        "    for consulta, distancias_cercanas in resultados:\n",
        "        archivo.write(f\"Para la consulta {consulta}, las distancias más cercanas a 0 son:\\n\")\n",
        "        for distancia in distancias_cercanas:\n",
        "            indice_texto = np.where(distancias_cos[consultas.index(consulta)] == distancia)[0][0]\n",
        "            archivo.write(f\"Distancia entre Consulta {consultas.index(consulta)+1} y Texto {indice_texto+1}: {distancia}\\n\")\n",
        "\n",
        "\n"
      ],
      "metadata": {
        "id": "zN82IJJcU97x"
      },
      "execution_count": 28,
      "outputs": []
    }
  ]
}